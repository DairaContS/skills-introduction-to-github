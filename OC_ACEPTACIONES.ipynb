{
  "nbformat": 4,
  "nbformat_minor": 0,
  "metadata": {
    "colab": {
      "provenance": [],
      "authorship_tag": "ABX9TyMt5Rwa1BB/61puNNHXNtkg",
      "include_colab_link": true
    },
    "kernelspec": {
      "name": "python3",
      "display_name": "Python 3"
    },
    "language_info": {
      "name": "python"
    }
  },
  "cells": [
    {
      "cell_type": "markdown",
      "metadata": {
        "id": "view-in-github",
        "colab_type": "text"
      },
      "source": [
        "<a href=\"https://colab.research.google.com/github/DairaContS/skills-introduction-to-github/blob/main/OC_ACEPTACIONES.ipynb\" target=\"_parent\"><img src=\"https://colab.research.google.com/assets/colab-badge.svg\" alt=\"Open In Colab\"/></a>"
      ]
    },
    {
      "cell_type": "code",
      "execution_count": null,
      "metadata": {
        "colab": {
          "base_uri": "https://localhost:8080/"
        },
        "id": "3hEfDxkVju2J",
        "outputId": "2deeaf73-c89b-4ad3-fce1-c23387c5aaca"
      },
      "outputs": [
        {
          "output_type": "stream",
          "name": "stdout",
          "text": [
            "Requirement already satisfied: pandas in /usr/local/lib/python3.10/dist-packages (2.2.2)\n",
            "Requirement already satisfied: openpyxl in /usr/local/lib/python3.10/dist-packages (3.1.5)\n",
            "Requirement already satisfied: numpy>=1.22.4 in /usr/local/lib/python3.10/dist-packages (from pandas) (1.26.4)\n",
            "Requirement already satisfied: python-dateutil>=2.8.2 in /usr/local/lib/python3.10/dist-packages (from pandas) (2.8.2)\n",
            "Requirement already satisfied: pytz>=2020.1 in /usr/local/lib/python3.10/dist-packages (from pandas) (2024.2)\n",
            "Requirement already satisfied: tzdata>=2022.7 in /usr/local/lib/python3.10/dist-packages (from pandas) (2024.2)\n",
            "Requirement already satisfied: et-xmlfile in /usr/local/lib/python3.10/dist-packages (from openpyxl) (1.1.0)\n",
            "Requirement already satisfied: six>=1.5 in /usr/local/lib/python3.10/dist-packages (from python-dateutil>=2.8.2->pandas) (1.16.0)\n"
          ]
        }
      ],
      "source": [
        "!pip install pandas openpyxl\n"
      ]
    },
    {
      "cell_type": "code",
      "source": [
        "import openpyxl"
      ],
      "metadata": {
        "id": "EnUOO3LtkiMX"
      },
      "execution_count": null,
      "outputs": []
    },
    {
      "cell_type": "markdown",
      "source": [
        "# **Modificación de formatos**\n"
      ],
      "metadata": {
        "id": "iXLNfuMa4OVz"
      }
    },
    {
      "cell_type": "code",
      "source": [
        "def eliminar_filas_y_guardar(archivo_entrada, archivo_salida, filas_a_eliminar):\n",
        "    wb = openpyxl.load_workbook(archivo_entrada)\n",
        "    hoja = wb.active\n",
        "    hoja.delete_rows(1, filas_a_eliminar)\n",
        "    wb.save(archivo_salida)\n",
        "\n",
        "eliminar_filas_y_guardar(\"ordencompra.xlsx\", \"OC.xlsx\", 6)\n",
        "eliminar_filas_y_guardar(\"CARD.xlsx\", \"CARD_modificado.xlsx\", 3)\n",
        "eliminar_filas_y_guardar(\"SFP.xlsx\", \"SFP_modificado.xlsx\", 7)\n"
      ],
      "metadata": {
        "colab": {
          "base_uri": "https://localhost:8080/"
        },
        "id": "E-KNuDtwkK3o",
        "outputId": "7694f8d4-57b0-41fc-a77d-a7d1d391cedf",
        "collapsed": true
      },
      "execution_count": null,
      "outputs": [
        {
          "output_type": "stream",
          "name": "stderr",
          "text": [
            "/usr/local/lib/python3.10/dist-packages/openpyxl/worksheet/header_footer.py:48: UserWarning: Cannot parse header or footer so it will be ignored\n",
            "  warn(\"\"\"Cannot parse header or footer so it will be ignored\"\"\")\n"
          ]
        }
      ]
    },
    {
      "cell_type": "markdown",
      "source": [
        "# Separar datos"
      ],
      "metadata": {
        "id": "j2-E-plP5NwA"
      }
    },
    {
      "cell_type": "code",
      "source": [
        "import pandas as pd\n",
        "\n",
        "#Documento 1\n",
        "# Cargar el archivo SFP_modificado.xlsx\n",
        "sfp_df = pd.read_excel(\"SFP_modificado.xlsx\")\n",
        "\n",
        "# Definir una función para procesar los datos de la columna \"Port\"\n",
        "def procesar_port(port):\n",
        "    # Dividir el port por el guion (-)\n",
        "    partes = port.split('-')\n",
        "    sitio = partes[0].strip()\n",
        "    subrack = \"\"\n",
        "    slot_id = \"\"\n",
        "\n",
        "    # Si hay al menos dos partes separadas por guiones\n",
        "    if len(partes) >= 2:\n",
        "        # Extraer la segunda parte y eliminar cualquier carácter que no sea dígito\n",
        "        subrack_part = partes[1]\n",
        "        subrack = ''.join(filter(str.isdigit, subrack_part))  # Extraer solo los números\n",
        "\n",
        "    # Si hay al menos tres partes separadas por guiones\n",
        "    if len(partes) >= 3:\n",
        "        # Extraer la tercera parte y eliminar lo que sigue al primer guión bajo\n",
        "        slot_id_part = partes[2].split('_')\n",
        "        if len(slot_id_part) >= 1:\n",
        "            slot_id = slot_id_part[0].strip()\n",
        "\n",
        "    return sitio, subrack, slot_id\n",
        "\n",
        "# Aplicar la función a la columna \"Port\" y expandirla en tres nuevas columnas\n",
        "sfp_df[['Sitio', 'Subrack', 'Slot ID']] = sfp_df['Port'].apply(lambda x: pd.Series(procesar_port(x)))\n",
        "\n",
        "# Seleccionar las columnas necesarias y la columna \"SN(Bar Code)\"\n",
        "resultado_df = sfp_df[['Sitio', 'Subrack', 'Slot ID', 'SN(Bar Code)']]\n",
        "\n",
        "resultado_df.rename(columns={'SN(Bar Code)': 'Modelo'}, inplace=True)\n",
        "\n",
        "#Documento 2\n",
        "\n",
        "# Cargar el archivo CARD_modificado.xlsx\n",
        "card_df = pd.read_excel(\"CARD_modificado.xlsx\")\n",
        "\n",
        "# Renombrar la columna \"NE Name\" a \"Sitio\"\n",
        "card_df.rename(columns={'NE Name': 'Sitio'}, inplace=True)\n",
        "\n",
        "# Seleccionar las columnas necesarias y cambiar los nombres de las columnas\n",
        "nuevo_df = card_df[['Sitio', 'Subrack ID', 'Slot ID', 'SN(Bar Code)']]\n",
        "nuevo_df.rename(columns={'Subrack ID': 'Subrack'}, inplace=True)\n",
        "\n",
        "nuevo_df.rename(columns={'SN(Bar Code)': 'Modelo'}, inplace=True)\n",
        "\n",
        "#Documento #3\n",
        "#Cargar Reporte Entradas Bolsa\n",
        "df_entry = pd.read_excel (\"entradas.xlsx\")\n",
        "\n",
        "#Convertir columna no de serie a modelo\n",
        "df_entry.rename(columns={'No de serie': 'Modelo'}, inplace=True)\n",
        "\n",
        "#Guardar los cambios en un nuevo doc\n",
        "df_entry.to_excel(\"_entradas.xlsx\", index=False)\n",
        "\n",
        "# Guardar el resultado en un nuevo archivo Excel sin el índice de fila\n",
        "nuevo_df.to_excel(\"resultado_card.xlsx\", index=False)\n",
        "\n",
        "# Guardar el resultado en un nuevo archivo Excel sin el índice de fila\n",
        "resultado_df.to_excel(\"resultado_sfp.xlsx\", index=False)"
      ],
      "metadata": {
        "id": "RQW7s7Mh2HUs",
        "colab": {
          "base_uri": "https://localhost:8080/",
          "height": 617
        },
        "outputId": "d2d36d05-b299-4861-f3b1-d4ea7fbe7e93"
      },
      "execution_count": null,
      "outputs": [
        {
          "output_type": "stream",
          "name": "stderr",
          "text": [
            "<ipython-input-6-3f23d9b41cc3>:36: SettingWithCopyWarning: \n",
            "A value is trying to be set on a copy of a slice from a DataFrame\n",
            "\n",
            "See the caveats in the documentation: https://pandas.pydata.org/pandas-docs/stable/user_guide/indexing.html#returning-a-view-versus-a-copy\n",
            "  resultado_df.rename(columns={'SN(Bar Code)': 'Modelo'}, inplace=True)\n",
            "<ipython-input-6-3f23d9b41cc3>:48: SettingWithCopyWarning: \n",
            "A value is trying to be set on a copy of a slice from a DataFrame\n",
            "\n",
            "See the caveats in the documentation: https://pandas.pydata.org/pandas-docs/stable/user_guide/indexing.html#returning-a-view-versus-a-copy\n",
            "  nuevo_df.rename(columns={'Subrack ID': 'Subrack'}, inplace=True)\n",
            "<ipython-input-6-3f23d9b41cc3>:50: SettingWithCopyWarning: \n",
            "A value is trying to be set on a copy of a slice from a DataFrame\n",
            "\n",
            "See the caveats in the documentation: https://pandas.pydata.org/pandas-docs/stable/user_guide/indexing.html#returning-a-view-versus-a-copy\n",
            "  nuevo_df.rename(columns={'SN(Bar Code)': 'Modelo'}, inplace=True)\n"
          ]
        },
        {
          "output_type": "error",
          "ename": "FileNotFoundError",
          "evalue": "[Errno 2] No such file or directory: 'entradas.xlsx'",
          "traceback": [
            "\u001b[0;31m---------------------------------------------------------------------------\u001b[0m",
            "\u001b[0;31mFileNotFoundError\u001b[0m                         Traceback (most recent call last)",
            "\u001b[0;32m<ipython-input-6-3f23d9b41cc3>\u001b[0m in \u001b[0;36m<cell line: 54>\u001b[0;34m()\u001b[0m\n\u001b[1;32m     52\u001b[0m \u001b[0;31m#Documento #3\u001b[0m\u001b[0;34m\u001b[0m\u001b[0;34m\u001b[0m\u001b[0m\n\u001b[1;32m     53\u001b[0m \u001b[0;31m#Cargar Reporte Entradas Bolsa\u001b[0m\u001b[0;34m\u001b[0m\u001b[0;34m\u001b[0m\u001b[0m\n\u001b[0;32m---> 54\u001b[0;31m \u001b[0mdf_entry\u001b[0m \u001b[0;34m=\u001b[0m \u001b[0mpd\u001b[0m\u001b[0;34m.\u001b[0m\u001b[0mread_excel\u001b[0m \u001b[0;34m(\u001b[0m\u001b[0;34m\"entradas.xlsx\"\u001b[0m\u001b[0;34m)\u001b[0m\u001b[0;34m\u001b[0m\u001b[0;34m\u001b[0m\u001b[0m\n\u001b[0m\u001b[1;32m     55\u001b[0m \u001b[0;34m\u001b[0m\u001b[0m\n\u001b[1;32m     56\u001b[0m \u001b[0;31m#Convertir columna no de serie a modelo\u001b[0m\u001b[0;34m\u001b[0m\u001b[0;34m\u001b[0m\u001b[0m\n",
            "\u001b[0;32m/usr/local/lib/python3.10/dist-packages/pandas/io/excel/_base.py\u001b[0m in \u001b[0;36mread_excel\u001b[0;34m(io, sheet_name, header, names, index_col, usecols, dtype, engine, converters, true_values, false_values, skiprows, nrows, na_values, keep_default_na, na_filter, verbose, parse_dates, date_parser, date_format, thousands, decimal, comment, skipfooter, storage_options, dtype_backend, engine_kwargs)\u001b[0m\n\u001b[1;32m    493\u001b[0m     \u001b[0;32mif\u001b[0m \u001b[0;32mnot\u001b[0m \u001b[0misinstance\u001b[0m\u001b[0;34m(\u001b[0m\u001b[0mio\u001b[0m\u001b[0;34m,\u001b[0m \u001b[0mExcelFile\u001b[0m\u001b[0;34m)\u001b[0m\u001b[0;34m:\u001b[0m\u001b[0;34m\u001b[0m\u001b[0;34m\u001b[0m\u001b[0m\n\u001b[1;32m    494\u001b[0m         \u001b[0mshould_close\u001b[0m \u001b[0;34m=\u001b[0m \u001b[0;32mTrue\u001b[0m\u001b[0;34m\u001b[0m\u001b[0;34m\u001b[0m\u001b[0m\n\u001b[0;32m--> 495\u001b[0;31m         io = ExcelFile(\n\u001b[0m\u001b[1;32m    496\u001b[0m             \u001b[0mio\u001b[0m\u001b[0;34m,\u001b[0m\u001b[0;34m\u001b[0m\u001b[0;34m\u001b[0m\u001b[0m\n\u001b[1;32m    497\u001b[0m             \u001b[0mstorage_options\u001b[0m\u001b[0;34m=\u001b[0m\u001b[0mstorage_options\u001b[0m\u001b[0;34m,\u001b[0m\u001b[0;34m\u001b[0m\u001b[0;34m\u001b[0m\u001b[0m\n",
            "\u001b[0;32m/usr/local/lib/python3.10/dist-packages/pandas/io/excel/_base.py\u001b[0m in \u001b[0;36m__init__\u001b[0;34m(self, path_or_buffer, engine, storage_options, engine_kwargs)\u001b[0m\n\u001b[1;32m   1548\u001b[0m                 \u001b[0mext\u001b[0m \u001b[0;34m=\u001b[0m \u001b[0;34m\"xls\"\u001b[0m\u001b[0;34m\u001b[0m\u001b[0;34m\u001b[0m\u001b[0m\n\u001b[1;32m   1549\u001b[0m             \u001b[0;32melse\u001b[0m\u001b[0;34m:\u001b[0m\u001b[0;34m\u001b[0m\u001b[0;34m\u001b[0m\u001b[0m\n\u001b[0;32m-> 1550\u001b[0;31m                 ext = inspect_excel_format(\n\u001b[0m\u001b[1;32m   1551\u001b[0m                     \u001b[0mcontent_or_path\u001b[0m\u001b[0;34m=\u001b[0m\u001b[0mpath_or_buffer\u001b[0m\u001b[0;34m,\u001b[0m \u001b[0mstorage_options\u001b[0m\u001b[0;34m=\u001b[0m\u001b[0mstorage_options\u001b[0m\u001b[0;34m\u001b[0m\u001b[0;34m\u001b[0m\u001b[0m\n\u001b[1;32m   1552\u001b[0m                 )\n",
            "\u001b[0;32m/usr/local/lib/python3.10/dist-packages/pandas/io/excel/_base.py\u001b[0m in \u001b[0;36minspect_excel_format\u001b[0;34m(content_or_path, storage_options)\u001b[0m\n\u001b[1;32m   1400\u001b[0m         \u001b[0mcontent_or_path\u001b[0m \u001b[0;34m=\u001b[0m \u001b[0mBytesIO\u001b[0m\u001b[0;34m(\u001b[0m\u001b[0mcontent_or_path\u001b[0m\u001b[0;34m)\u001b[0m\u001b[0;34m\u001b[0m\u001b[0;34m\u001b[0m\u001b[0m\n\u001b[1;32m   1401\u001b[0m \u001b[0;34m\u001b[0m\u001b[0m\n\u001b[0;32m-> 1402\u001b[0;31m     with get_handle(\n\u001b[0m\u001b[1;32m   1403\u001b[0m         \u001b[0mcontent_or_path\u001b[0m\u001b[0;34m,\u001b[0m \u001b[0;34m\"rb\"\u001b[0m\u001b[0;34m,\u001b[0m \u001b[0mstorage_options\u001b[0m\u001b[0;34m=\u001b[0m\u001b[0mstorage_options\u001b[0m\u001b[0;34m,\u001b[0m \u001b[0mis_text\u001b[0m\u001b[0;34m=\u001b[0m\u001b[0;32mFalse\u001b[0m\u001b[0;34m\u001b[0m\u001b[0;34m\u001b[0m\u001b[0m\n\u001b[1;32m   1404\u001b[0m     ) as handle:\n",
            "\u001b[0;32m/usr/local/lib/python3.10/dist-packages/pandas/io/common.py\u001b[0m in \u001b[0;36mget_handle\u001b[0;34m(path_or_buf, mode, encoding, compression, memory_map, is_text, errors, storage_options)\u001b[0m\n\u001b[1;32m    880\u001b[0m         \u001b[0;32melse\u001b[0m\u001b[0;34m:\u001b[0m\u001b[0;34m\u001b[0m\u001b[0;34m\u001b[0m\u001b[0m\n\u001b[1;32m    881\u001b[0m             \u001b[0;31m# Binary mode\u001b[0m\u001b[0;34m\u001b[0m\u001b[0;34m\u001b[0m\u001b[0m\n\u001b[0;32m--> 882\u001b[0;31m             \u001b[0mhandle\u001b[0m \u001b[0;34m=\u001b[0m \u001b[0mopen\u001b[0m\u001b[0;34m(\u001b[0m\u001b[0mhandle\u001b[0m\u001b[0;34m,\u001b[0m \u001b[0mioargs\u001b[0m\u001b[0;34m.\u001b[0m\u001b[0mmode\u001b[0m\u001b[0;34m)\u001b[0m\u001b[0;34m\u001b[0m\u001b[0;34m\u001b[0m\u001b[0m\n\u001b[0m\u001b[1;32m    883\u001b[0m         \u001b[0mhandles\u001b[0m\u001b[0;34m.\u001b[0m\u001b[0mappend\u001b[0m\u001b[0;34m(\u001b[0m\u001b[0mhandle\u001b[0m\u001b[0;34m)\u001b[0m\u001b[0;34m\u001b[0m\u001b[0;34m\u001b[0m\u001b[0m\n\u001b[1;32m    884\u001b[0m \u001b[0;34m\u001b[0m\u001b[0m\n",
            "\u001b[0;31mFileNotFoundError\u001b[0m: [Errno 2] No such file or directory: 'entradas.xlsx'"
          ]
        }
      ]
    },
    {
      "cell_type": "markdown",
      "source": [
        "# Cambiar datos a valores numéricos"
      ],
      "metadata": {
        "id": "PQF2esHC9Eg4"
      }
    },
    {
      "cell_type": "code",
      "execution_count": null,
      "metadata": {
        "id": "9LBf3Dg6SGG8"
      },
      "outputs": [],
      "source": [
        "import pandas as pd\n",
        "\n",
        "# Cargar los datos de los documentos resultado_sfp y resultado_card\n",
        "df_sfp = pd.read_excel(\"resultado_sfp.xlsx\")\n",
        "df_card = pd.read_excel(\"resultado_card.xlsx\")\n",
        "df_oc = pd.read_excel (\"OC.xlsx\")\n",
        "\n",
        "# Convertir las columnas \"Subrack\" y \"Slot ID\" a valores numéricos\n",
        "df_sfp['Subrack'] = pd.to_numeric(df_sfp['Subrack'], errors='coerce')\n",
        "df_sfp['Slot ID'] = pd.to_numeric(df_sfp['Slot ID'], errors='coerce')\n",
        "\n",
        "df_card['Subrack'] = pd.to_numeric(df_card['Subrack'], errors='coerce')\n",
        "df_card['Slot ID'] = pd.to_numeric(df_card['Slot ID'], errors='coerce')\n",
        "\n",
        "df_oc['Subrack'] = pd.to_numeric(df_oc['Subrack'], errors='coerce')\n",
        "df_oc['Slot ID'] = pd.to_numeric(df_oc['Slot ID'], errors='coerce')\n",
        "df_oc['Modelo'] = df_oc['Modelo'].astype(str)\n",
        "# Guardar los datos en un nuevo documento\n",
        "df_sfp.to_excel(\"sfp_numerico.xlsx\", index=False)\n",
        "df_card.to_excel(\"card_numerico.xlsx\", index=False)\n",
        "df_oc.to_excel(\"oc_numerico.xlsx\", index=False)"
      ]
    },
    {
      "cell_type": "code",
      "source": [
        "# Cargar el archivo de Excel\n",
        "archivo_excel = '_entradas.xlsx'\n",
        "wb = openpyxl.load_workbook(archivo_excel)\n",
        "ws = wb.active  # Seleccionar la hoja activa, puedes especificar otra hoja si es necesario\n",
        "\n",
        "# Iterar a través de todas las celdas en la columna K\n",
        "columna_k = 'K'\n",
        "for cell in ws[columna_k]:\n",
        "    cell.number_format = '@'  # Cambiar el formato de la celda a texto\n",
        "    if isinstance(cell.value, (int, float)):  # Verifica si el valor es un número\n",
        "        cell.value = str(cell.value)  # Convierte el número a texto\n",
        "\n",
        "# Guardar los cambios en el archivo de Excel\n",
        "wb.save('reporte_entradas.xlsx')"
      ],
      "metadata": {
        "id": "tamBvE9aQnhX"
      },
      "execution_count": null,
      "outputs": []
    },
    {
      "cell_type": "markdown",
      "source": [
        "# **Validar posiciones**"
      ],
      "metadata": {
        "id": "pIuxVmkS9odW"
      }
    },
    {
      "cell_type": "code",
      "execution_count": null,
      "metadata": {
        "id": "hkubcslZvCex"
      },
      "outputs": [],
      "source": [
        "import pandas as pd\n",
        "#No toma en cuenta la validación de Racks y Subracks\n",
        "# Cargar los datos de los documentos\n",
        "df_oc = pd.read_excel(\"oc_numerico.xlsx\")\n",
        "df_sfp = pd.read_excel(\"sfp_numerico.xlsx\")\n",
        "df_card = pd.read_excel(\"card_numerico.xlsx\")\n",
        "\n",
        "# Filtrar filas de df_oc donde la columna \"Sitio\" es diferente de \"ALMACEN GTAC\" o vacía\n",
        "df_oc_filtrado = df_oc[(df_oc['Sitio'] != 'ALMACEN GTAC') & (df_oc['Sitio'].notna())]\n",
        "\n",
        "# Iterar sobre las filas filtradas del df_oc\n",
        "for index, row in df_oc_filtrado.iterrows():\n",
        "    modelo_oc = row['Modelo']\n",
        "    subrack_oc = row['Subrack']\n",
        "    slot_id_oc = row['Slot ID']\n",
        "    encontrado = False\n",
        "\n",
        "    # Buscar en df_sfp\n",
        "    if modelo_oc in df_sfp['Modelo'].values:\n",
        "        df_sfp_filtrado = df_sfp[df_sfp['Modelo'] == modelo_oc]\n",
        "        for idx, r in df_sfp_filtrado.iterrows():\n",
        "            if r['Subrack'] == subrack_oc and r['Slot ID'] == slot_id_oc:\n",
        "                df_oc.at[index, 'Validacion'] = 'coincide'\n",
        "                encontrado = True\n",
        "                break\n",
        "\n",
        "    # Buscar en df_card si no se ha encontrado en df_sfp\n",
        "    if not encontrado and modelo_oc in df_card['Modelo'].values:\n",
        "        df_card_filtrado = df_card[df_card['Modelo'] == modelo_oc]\n",
        "        for idx, r in df_card_filtrado.iterrows():\n",
        "            if r['Subrack'] == subrack_oc and r['Slot ID'] == slot_id_oc:\n",
        "                df_oc.at[index, 'Validacion'] = 'coincide'\n",
        "                encontrado = True\n",
        "                break\n",
        "\n",
        "    # Si no se ha encontrado en ninguno de los documentos\n",
        "    if not encontrado:\n",
        "        df_oc.at[index, 'Validacion'] = 'no coincide'\n",
        "\n",
        "# Guardar el documento modificado\n",
        "df_oc.to_excel(\"OrdenC.xlsx\", index=False)\n"
      ]
    },
    {
      "cell_type": "code",
      "source": [
        "import pandas as pd\n",
        "#Prueba 1 validación tomando en cuenta racks y subracks\n",
        "# Cargar los datos de los documentos\n",
        "df_oc = pd.read_excel(\"oc_numerico.xlsx\")\n",
        "df_sfp = pd.read_excel(\"sfp_numerico.xlsx\")\n",
        "df_card = pd.read_excel(\"card_numerico.xlsx\")\n",
        "\n",
        "# Filtrar filas de df_oc donde la columna \"Sitio\" es diferente de \"ALMACEN GTAC\" o vacía\n",
        "df_oc_filtrado = df_oc[(df_oc['Sitio'] != 'ALMACEN GTAC') & (df_oc['Sitio'].notna())]\n",
        "\n",
        "# Iterar sobre las filas filtradas del df_oc\n",
        "for index, row in df_oc_filtrado.iterrows():\n",
        "    modelo_oc = row['Modelo']\n",
        "    subrack_oc = row['Subrack']\n",
        "    slot_id_oc = row['Slot ID']\n",
        "    encontrado = False\n",
        "\n",
        "    # Buscar en df_sfp\n",
        "    if modelo_oc in df_sfp['Modelo'].values:\n",
        "        df_sfp_filtrado = df_sfp[df_sfp['Modelo'] == modelo_oc]\n",
        "        for idx, r in df_sfp_filtrado.iterrows():\n",
        "            if r['Subrack'] == subrack_oc and r['Slot ID'] == slot_id_oc:\n",
        "                df_oc.at[index, 'Validacion'] = 'coincide'\n",
        "                encontrado = True\n",
        "                break\n",
        "\n",
        "    # Buscar en df_card si no se ha encontrado en df_sfp\n",
        "    if not encontrado and modelo_oc in df_card['Modelo'].values:\n",
        "        df_card_filtrado = df_card[df_card['Modelo'] == modelo_oc]\n",
        "        for idx, r in df_card_filtrado.iterrows():\n",
        "            if r['Subrack'] == subrack_oc and r['Slot ID'] == slot_id_oc:\n",
        "                df_oc.at[index, 'Validacion'] = 'coincide'\n",
        "                encontrado = True\n",
        "                break\n",
        "\n",
        "    # Si no se ha encontrado en ninguno de los documentos\n",
        "    if not encontrado:\n",
        "        if index > 0 and (df_oc.at[index - 1, 'Descripción'] == 'Assembly SubRack (OSN 9800 M24)' or df_oc.at[index - 1, 'Descripción'] == 'A63B Type ETSI Rack (2200*600*300mm,LSZH) Without SubRack (2*M24)'):\n",
        "            df_oc.at[index, 'Validacion'] = 'coincide'\n",
        "        else:\n",
        "            df_oc.at[index, 'Validacion'] = 'no coincide'\n",
        "\n",
        "# Guardar el documento modificado\n",
        "df_oc.to_excel(\"OrdenC.xlsx\", index=False)\n",
        "\n",
        "print(\"El documento final se encuentra como 'OrdenC.xlsx'\")"
      ],
      "metadata": {
        "id": "a3QxPTLIoDHi",
        "colab": {
          "base_uri": "https://localhost:8080/"
        },
        "outputId": "1ea4379a-a261-4983-d5b8-d392641e6bdc"
      },
      "execution_count": null,
      "outputs": [
        {
          "output_type": "stream",
          "name": "stdout",
          "text": [
            "El documento final se encuentra como 'OrdenC.xlsx'\n"
          ]
        }
      ]
    },
    {
      "cell_type": "markdown",
      "source": [
        "# **Comparación sitios-almacén**"
      ],
      "metadata": {
        "id": "5Z4MxnLo902N"
      }
    },
    {
      "cell_type": "code",
      "source": [
        "import pandas as pd\n",
        "\n",
        "# Cargar los datos de los documentos\n",
        "df_oc = pd.read_excel(\"OrdenC.xlsx\")\n",
        "df_sfp = pd.read_excel(\"sfp_numerico.xlsx\")\n",
        "df_card = pd.read_excel(\"card_numerico.xlsx\")\n",
        "reporte_entradas = pd.read_excel(\"reporte_entradas.xlsx\")\n",
        "# Ignorar las filas donde la columna \"Sitio\" está vacía\n",
        "df_oc = df_oc.loc[df_oc['Sitio'].notnull(), :]\n",
        "\n",
        "# Función para comparar con documentos sfp y card (ejemplo de implementación)\n",
        "def comparar_documentos(fila, sfp, card):\n",
        "    # Aquí va la lógica de comparación\n",
        "    # Supongamos que se añade un comentario basado en la comparación\n",
        "    Documento = \"\"\n",
        "    if fila['Modelo'] in sfp['Modelo'].values:\n",
        "        Documento += \"Modelo en sfp \"\n",
        "    if fila['Modelo'] in card['Modelo'].values:\n",
        "        Documento += \"Modelo en card \"\n",
        "    return Documento.strip()\n",
        "\n",
        "# Aplicar la función de comparación y actualizar la columna \"Documento\"\n",
        "df_oc['Documento'] = df_oc.apply(lambda fila: comparar_documentos(fila, df_sfp, df_card), axis=1)\n",
        "\n",
        "# Verificar si \"Modelo\" se encuentra en \"reporte_entradas\" para las filas con \"ALMACEN GTAC\"\n",
        "def verificar_reporte_entradas(fila, reporte_entradas):\n",
        "    if fila['Sitio'] == \"ALMACEN GTAC\":\n",
        "        if fila['Modelo'] in reporte_entradas['Modelo'].values:\n",
        "            return fila['Documento'] + \" Modelo en reporte_entradas\"\n",
        "        else:\n",
        "            return fila['Documento'] + \" Modelo no encontrado en reporte_entradas\"\n",
        "    return fila['Documento']\n",
        "\n",
        "df_oc['Documento'] = df_oc.apply(lambda fila: verificar_reporte_entradas(fila, reporte_entradas), axis=1)\n",
        "\n",
        "# Guardar los resultados en un nuevo archivo de Excel\n",
        "df_oc.to_excel(\"OrdenValidada.xlsx\", index=False)\n"
      ],
      "metadata": {
        "id": "x2e3BSJUxsXo",
        "colab": {
          "base_uri": "https://localhost:8080/"
        },
        "outputId": "ffc9a361-3601-4944-83db-d2d982ed2d0a"
      },
      "execution_count": null,
      "outputs": [
        {
          "output_type": "stream",
          "name": "stderr",
          "text": [
            "<ipython-input-23-17b9bcef3843>:23: SettingWithCopyWarning: \n",
            "A value is trying to be set on a copy of a slice from a DataFrame.\n",
            "Try using .loc[row_indexer,col_indexer] = value instead\n",
            "\n",
            "See the caveats in the documentation: https://pandas.pydata.org/pandas-docs/stable/user_guide/indexing.html#returning-a-view-versus-a-copy\n",
            "  df_oc['Documento'] = df_oc.apply(lambda fila: comparar_documentos(fila, df_sfp, df_card), axis=1)\n",
            "<ipython-input-23-17b9bcef3843>:34: SettingWithCopyWarning: \n",
            "A value is trying to be set on a copy of a slice from a DataFrame.\n",
            "Try using .loc[row_indexer,col_indexer] = value instead\n",
            "\n",
            "See the caveats in the documentation: https://pandas.pydata.org/pandas-docs/stable/user_guide/indexing.html#returning-a-view-versus-a-copy\n",
            "  df_oc['Documento'] = df_oc.apply(lambda fila: verificar_reporte_entradas(fila, reporte_entradas), axis=1)\n"
          ]
        }
      ]
    },
    {
      "cell_type": "markdown",
      "source": [
        "# **Agregar centro de costos**\n",
        "(No final)\n",
        "---\n",
        "\n"
      ],
      "metadata": {
        "id": "cJHnaC0WSV17"
      }
    },
    {
      "cell_type": "code",
      "source": [
        "import pandas as pd\n",
        "\n",
        "documento1 = pd.read_excel('OrdenValidada.xlsx')\n",
        "documento2 = pd.read_excel('ccostos.xlsx')\n",
        "\n",
        "documento1 = documento1.drop_duplicates()\n",
        "documento2 = documento2.drop_duplicates(subset=['Sitio'])\n",
        "\n",
        "\n",
        "resultado = pd.merge(documento1, documento2[['Sitio', 'Centro de Costos']], on='Sitio', how='left')\n",
        "\n",
        "resultado.loc[resultado['Sitio'] == 'ALMACEN GTAC', 'Centro de Costos'] = 'ALMACEN GTAC'\n",
        "\n",
        "resultado.to_excel('OrdenCFinal.xlsx', index=False)\n",
        "\n",
        "print(\"El documento final se encuentra como 'OrdenCFinal.xlsx'\")\n",
        "\n"
      ],
      "metadata": {
        "id": "Ul854kIfJIe1",
        "colab": {
          "base_uri": "https://localhost:8080/"
        },
        "outputId": "21f7679b-078a-4f45-bffb-30ba17ed47d9"
      },
      "execution_count": null,
      "outputs": [
        {
          "output_type": "stream",
          "name": "stdout",
          "text": [
            "El documento final se encuentra como 'OrdenCFinal.xlsx'\n"
          ]
        }
      ]
    }
  ]
}